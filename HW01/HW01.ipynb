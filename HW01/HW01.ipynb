{
 "cells": [
  {
   "cell_type": "markdown",
   "metadata": {},
   "source": [
    "## 相关性分析\n",
    "数据集包含 13 个特征 (CRIM, ZN, INDUS, ... LSTAT)，以及目标变量 MEDV（房价）\n",
    "计算这些特征与 MEDV 的相关性，选取与房价最相关的特征用于训练神经网络。\n",
    "分别计算三种相关性分析算法的结果，然后求交集，选取求交集后的7个特征用来拟合\n"
   ]
  },
  {
   "cell_type": "code",
   "execution_count": 1,
   "metadata": {},
   "outputs": [
    {
     "name": "stdout",
     "output_type": "stream",
     "text": [
      "['RM', 'ZN', 'B', 'DIS', 'NOX', 'TAX', 'INDUS', 'PTRATIO', 'LSTAT']\n",
      "['RM', 'ZN', 'DIS', 'B', 'PTRATIO', 'CRIM', 'TAX', 'INDUS', 'LSTAT']\n",
      "['RM', 'DIS', 'ZN', 'B', 'CRIM', 'TAX', 'NOX', 'INDUS', 'LSTAT']\n",
      "['DIS', 'LSTAT', 'INDUS', 'ZN', 'B', 'RM', 'TAX']\n"
     ]
    }
   ],
   "source": [
    "import pandas as pd\n",
    "\n",
    "# 读取 Excel 文件\n",
    "file_path = \"BostonHousingData.xlsx\"\n",
    "xls = pd.ExcelFile(file_path)\n",
    "\n",
    "# 查看数据集包含的所有 sheet\n",
    "xls.sheet_names\n",
    "\n",
    "# 读取数据\n",
    "df = pd.read_excel(xls, sheet_name=\"Sheet1\")\n",
    "\n",
    "# 计算特征与目标变量 MEDV 的相关性\n",
    "correlation_matrix_pearson = df.corr(method=\"pearson\")\n",
    "correlation_matrix_kendall = df.corr(method=\"kendall\")\n",
    "correlation_matrix_spearman = df.corr(method=\"spearman\")\n",
    "\n",
    "# 按相关性大小排序，查看与 MEDV 相关性最高的特征\n",
    "N=8 # N<=13 取出前 N 个（N//2 个正相关，（N+1）//2个负相关）相关性最大的特征，然后求交集\n",
    "corr_features_pearson = correlation_matrix_pearson[\"MEDV\"].sort_values(ascending=False)\n",
    "corr_features_pearson = list(corr_features_pearson.index)\n",
    "corr_features_pearson = corr_features_pearson[1:N//2+1] + corr_features_pearson[-(N+1)//2:]\n",
    "corr_features_kendall = correlation_matrix_kendall[\"MEDV\"].sort_values(ascending=False)\n",
    "corr_features_kendall = list(corr_features_kendall.index)\n",
    "corr_features_kendall = corr_features_kendall[1:N//2+1] + corr_features_kendall[-(N+1)//2:]\n",
    "corr_features_spearman = correlation_matrix_spearman[\"MEDV\"].sort_values(ascending=False)\n",
    "corr_features_spearman = list(corr_features_spearman.index)\n",
    "corr_features_spearman = corr_features_spearman[1:N//2+1] + corr_features_spearman[-(N+1)//2:]\n",
    "# assert set(corr_features_pearson.index) == set(corr_features_kendall.index) == set(corr_features_spearman.index)\n",
    "print(corr_features_pearson)\n",
    "print(corr_features_kendall)\n",
    "print(corr_features_spearman)\n",
    "corr_features_selected = list(set(corr_features_pearson) & set(corr_features_kendall) & set(corr_features_spearman))\n",
    "print(corr_features_selected)"
   ]
  },
  {
   "cell_type": "markdown",
   "metadata": {},
   "source": [
    "## 构建NN\n",
    "分为\n",
    "\n",
    "a) 数据准备：将波士顿房价数据集的前450条作为训练集，后50条作为测试集。\n",
    "\n",
    "b) 数据预处理：对训练集和测试集的特征进行预处理（如：对缺失值进行处理），\n",
    "确保输入数据有相同的维度。\n",
    "\n",
    "c) 神经网络构建：在Python中使用Pytorch等神经网络框架构建一个适合回归\n",
    "问题的神经网络模型，包括输入层、隐藏层和输出层。可以选择使用多个隐藏层\n",
    "和不同的激活函数测试效果。\n",
    "\n",
    "d) 模型训练：使用训练集对神经网络模型进行训练，通过反向传播算法更新权\n",
    "重和偏置。\n",
    "\n",
    "e) 模型测试和评估：使用测试集对训练好的神经网络模型进行测试，计算预测\n",
    "值与实际值之间的均方误差作为评价指标"
   ]
  },
  {
   "cell_type": "markdown",
   "metadata": {},
   "source": [
    "### 数据准备\n"
   ]
  },
  {
   "cell_type": "code",
   "execution_count": 2,
   "metadata": {},
   "outputs": [],
   "source": [
    "import torch\n",
    "import torch.nn as nn\n",
    "import torch.optim as optim\n",
    "import pandas as pd\n",
    "from sklearn.model_selection import train_test_split\n",
    "from sklearn.preprocessing import StandardScaler\n",
    "\n",
    "\n",
    "# # 读取数据\n",
    "# df = pd.read_excel(\"BostonHousingData.xlsx\")\n",
    "\n",
    "# 选择相关性最高的特征\n",
    "selected_features = corr_features_selected\n",
    "X = df[selected_features].values\n",
    "y = df[\"MEDV\"].values\n",
    "\n",
    "# 划分训练集（前450条）和测试集（后50条）\n",
    "X_train, X_test = X[:450], X[450:]\n",
    "y_train, y_test = y[:450], y[450:]\n"
   ]
  },
  {
   "cell_type": "markdown",
   "metadata": {},
   "source": [
    "### 数据预处理\n"
   ]
  },
  {
   "cell_type": "code",
   "execution_count": 3,
   "metadata": {},
   "outputs": [
    {
     "name": "stdout",
     "output_type": "stream",
     "text": [
      "训练集特征维度: (450, 7), 目标变量维度: (450,)\n",
      "测试集特征维度: (56, 7), 目标变量维度: (56,)\n"
     ]
    }
   ],
   "source": [
    "# 确保数据有相同维度\n",
    "assert X_train.shape[1] == X_test.shape[1], \"训练集和测试集特征维度不一致\"\n",
    "assert y_train.shape[0] == X_train.shape[0], \"训练集和测试集目标变量维度不一致\"\n",
    "print(f\"训练集特征维度: {X_train.shape}, 目标变量维度: {y_train.shape}\")\n",
    "print(f\"测试集特征维度: {X_test.shape}, 目标变量维度: {y_test.shape}\")\n",
    "# 数据标准化\n",
    "scaler = StandardScaler()\n",
    "X_train = scaler.fit_transform(X_train)\n",
    "X_test = scaler.transform(X_test)\n"
   ]
  },
  {
   "cell_type": "markdown",
   "metadata": {},
   "source": [
    "### 构建神经网络\n"
   ]
  },
  {
   "cell_type": "code",
   "execution_count": 4,
   "metadata": {},
   "outputs": [],
   "source": [
    "\n",
    "# 转换为 PyTorch 张量\n",
    "X_train_tensor = torch.tensor(X_train, dtype=torch.float32)\n",
    "y_train_tensor = torch.tensor(y_train, dtype=torch.float32).view(-1, 1)\n",
    "X_test_tensor = torch.tensor(X_test, dtype=torch.float32)\n",
    "y_test_tensor = torch.tensor(y_test, dtype=torch.float32).view(-1, 1)\n",
    "\n",
    "# 定义神经网络模型\n",
    "class HousePriceNN(nn.Module):\n",
    "    def __init__(self):\n",
    "        super(HousePriceNN, self).__init__()\n",
    "\n",
    "        self.model = nn.Sequential(\n",
    "            nn.Linear(len(corr_features_selected), 16),  # 输入层 -> 隐藏层1\n",
    "            nn.ReLU(),\n",
    "            nn.Linear(16, 32),  # 隐藏层1 -> 隐藏层2\n",
    "            nn.BatchNorm1d(32),  # 批归一化\n",
    "            nn.ReLU(),\n",
    "            nn.Dropout(0.2),  # Dropout\n",
    "\n",
    "            nn.Linear(32, 1024),  # 隐藏层2 -> 隐藏层3\n",
    "            nn.BatchNorm1d(1024),  # 批归一化\n",
    "            nn.ReLU(),\n",
    "            nn.Dropout(0.3),  # Dropout\n",
    "\n",
    "            nn.Linear(1024, 1024),  # 隐藏层3 -> 隐藏层4\n",
    "            nn.BatchNorm1d(1024),  # 批归一化\n",
    "            nn.ReLU(),\n",
    "            nn.Dropout(0.2),  # Dropout\n",
    "\n",
    "            nn.Linear(1024, 512),  # 隐藏层4 -> 隐藏层5\n",
    "            nn.BatchNorm1d(512),  # 批归一化\n",
    "            nn.ReLU(),\n",
    "            nn.Dropout(0.2),  # Dropout\n",
    "            nn.Linear(512, 256),  # 隐藏层5 -> 隐藏层6\n",
    "            nn.BatchNorm1d(256),  # 批归一化\n",
    "            nn.ReLU(),\n",
    "            nn.Dropout(0.2),  # Dropout\n",
    "            nn.Linear(256, 8),  # 隐藏层6 -> 隐藏层7\n",
    "            nn.BatchNorm1d(8),  # 批归一化\n",
    "            nn.ReLU(),\n",
    "            nn.Dropout(0.2),  # Dropout\n",
    "\n",
    "            nn.Linear(8, 1)  # 隐藏层7 -> 输出层\n",
    "        )\n",
    "\n",
    "    def forward(self, x):\n",
    "        return self.model(x)\n",
    "\n",
    "# 创建模型\n",
    "model = HousePriceNN()\n",
    "\n",
    "# 定义损失函数和优化器\n",
    "criterion = nn.MSELoss()\n",
    "optimizer = optim.Adam(model.parameters(), lr=0.01)\n"
   ]
  },
  {
   "cell_type": "markdown",
   "metadata": {},
   "source": [
    "### 模型训练\n"
   ]
  },
  {
   "cell_type": "code",
   "execution_count": 5,
   "metadata": {},
   "outputs": [
    {
     "name": "stdout",
     "output_type": "stream",
     "text": [
      "Epoch [50/500], Loss: 340.0873\n",
      "Epoch [100/500], Loss: 83.5387\n",
      "Epoch [150/500], Loss: 35.4970\n",
      "Epoch [200/500], Loss: 26.9299\n",
      "Epoch [250/500], Loss: 24.4634\n",
      "Epoch [300/500], Loss: 27.0834\n",
      "Epoch [350/500], Loss: 30.9956\n",
      "Epoch [400/500], Loss: 22.9931\n",
      "Epoch [450/500], Loss: 21.0940\n",
      "Epoch [500/500], Loss: 29.8310\n"
     ]
    }
   ],
   "source": [
    "\n",
    "# 训练模型\n",
    "epochs = 500\n",
    "for epoch in range(epochs):\n",
    "    model.train()\n",
    "    optimizer.zero_grad()\n",
    "    y_pred = model(X_train_tensor)\n",
    "    loss = criterion(y_pred, y_train_tensor)\n",
    "    loss.backward()\n",
    "    optimizer.step()\n",
    "\n",
    "    if (epoch + 1) % 50 == 0:\n",
    "        print(f\"Epoch [{epoch+1}/{epochs}], Loss: {loss.item():.4f}\")\n",
    "\n"
   ]
  },
  {
   "cell_type": "markdown",
   "metadata": {},
   "source": [
    "### 模型测试与评估\n"
   ]
  },
  {
   "cell_type": "code",
   "execution_count": 6,
   "metadata": {},
   "outputs": [
    {
     "name": "stdout",
     "output_type": "stream",
     "text": [
      "Test MSE: 11.9416\n",
      "Test RMSE: 3.4557\n",
      "Test MAPE: 15.21%\n",
      "Test R² Score: 0.3464\n"
     ]
    },
    {
     "data": {
      "image/png": "[encoded data removed]",
      "text/plain": [
       "<Figure size 800x600 with 1 Axes>"
      ]
     },
     "metadata": {},
     "output_type": "display_data"
    }
   ],
   "source": [
    "import matplotlib.pyplot as plt\n",
    "from sklearn.metrics import mean_squared_error, r2_score\n",
    "import numpy as np\n",
    "\n",
    "# 模型测试与评估\n",
    "model.eval()\n",
    "with torch.no_grad():\n",
    "    y_test_pred = model(X_test_tensor).numpy().flatten()\n",
    "    y_test_true = y_test_tensor.numpy().flatten()\n",
    "\n",
    "# 计算均方误差（MSE）和均方根误差（RMSE）\n",
    "mse = mean_squared_error(y_test_true, y_test_pred)\n",
    "rmse = np.sqrt(mse)\n",
    "\n",
    "# 计算均方百分比误差（MAPE）\n",
    "mape = np.mean(np.abs((y_test_true - y_test_pred) / y_test_true)) * 100\n",
    "\n",
    "# 计算 R² 决定系数\n",
    "r2 = r2_score(y_test_true, y_test_pred)\n",
    "\n",
    "print(f\"Test MSE: {mse:.4f}\")\n",
    "print(f\"Test RMSE: {rmse:.4f}\")\n",
    "print(f\"Test MAPE: {mape:.2f}%\")\n",
    "print(f\"Test R² Score: {r2:.4f}\")\n",
    "\n",
    "# 绘制真实值 vs. 预测值的散点图\n",
    "plt.figure(figsize=(8, 6))\n",
    "plt.scatter(y_test_true, y_test_pred, alpha=0.6, color=\"blue\", label=\"Predictions\")\n",
    "plt.plot([min(y_test_true), max(y_test_true)], [min(y_test_true), max(y_test_true)], color='red', linestyle='--', label=\"Ideal Fit\")\n",
    "plt.xlabel(\"Actual House Prices\")\n",
    "plt.ylabel(\"Predicted House Prices\")\n",
    "plt.title(\"Actual vs. Predicted House Prices\")\n",
    "plt.legend()\n",
    "plt.grid()\n",
    "plt.show()\n"
   ]
  }
 ],
 "metadata": {
  "kernelspec": {
   "display_name": "base",
   "language": "python",
   "name": "python3"
  },
  "language_info": {
   "codemirror_mode": {
    "name": "ipython",
    "version": 3
   },
   "file_extension": ".py",
   "mimetype": "text/x-python",
   "name": "python",
   "nbconvert_exporter": "python",
   "pygments_lexer": "ipython3",
   "version": "3.12.9"
  }
 },
 "nbformat": 4,
 "nbformat_minor": 2
}
